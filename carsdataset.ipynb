{
  "nbformat": 4,
  "nbformat_minor": 0,
  "metadata": {
    "colab": {
      "provenance": []
    },
    "kernelspec": {
      "name": "python3",
      "display_name": "Python 3"
    },
    "language_info": {
      "name": "python"
    }
  },
  "cells": [
    {
      "cell_type": "code",
      "source": [
        "#mini project 1\n",
        "#4th february 2023"
      ],
      "metadata": {
        "id": "rk1M10Ajmgzj"
      },
      "execution_count": 1,
      "outputs": []
    },
    {
      "cell_type": "code",
      "source": [
        "#car dataset"
      ],
      "metadata": {
        "id": "dhglJRHLhv2Y"
      },
      "execution_count": 2,
      "outputs": []
    },
    {
      "cell_type": "code",
      "source": [
        "#import requiredlibrary\n",
        "import pandas as pd\n",
        "df = pd.read_csv('/content/CARS_1.csv')\n",
        "df.head()"
      ],
      "metadata": {
        "colab": {
          "base_uri": "https://localhost:8080/",
          "height": 374
        },
        "id": "x7vHepQClzXR",
        "outputId": "f3fad715-6f11-472f-cf2f-aa2810312df7"
      },
      "execution_count": 3,
      "outputs": [
        {
          "output_type": "execute_result",
          "data": {
            "text/plain": [
              "             car_name  reviews_count fuel_type  engine_displacement  \\\n",
              "0     Maruti Alto K10             51    Petrol                  998   \n",
              "1       Maruti Brezza             86    Petrol                 1462   \n",
              "2       Mahindra Thar            242    Diesel                 2184   \n",
              "3     Mahindra XUV700            313    Diesel                 2198   \n",
              "4  Mahindra Scorpio-N            107    Diesel                 2198   \n",
              "\n",
              "   no_cylinder  seating_capacity transmission_type  fuel_tank_capacity  \\\n",
              "0            3               5.0         Automatic                27.0   \n",
              "1            4               5.0         Automatic                48.0   \n",
              "2            4               4.0         Automatic                57.0   \n",
              "3            4               7.0         Automatic                60.0   \n",
              "4            4               7.0         Automatic                57.0   \n",
              "\n",
              "   body_type  rating  starting_price  ending_price  max_torque_nm  \\\n",
              "0  Hatchback     4.5          399000        583000           89.0   \n",
              "1        SUV     4.5          799000       1396000          136.8   \n",
              "2        SUV     4.5         1353000       1603000          300.0   \n",
              "3        SUV     4.5         1318000       2458000          450.0   \n",
              "4        SUV     4.5         1199000       2390000          400.0   \n",
              "\n",
              "   max_torque_rpm  max_power_bhp  max_power_rp  \n",
              "0            3500          65.71          5500  \n",
              "1            4400         101.65          6000  \n",
              "2            2800         130.00          3750  \n",
              "3            2800         182.38          3500  \n",
              "4            2750         172.45          3500  "
            ],
            "text/html": [
              "\n",
              "  <div id=\"df-2c731d36-8335-4be5-b253-16814059163a\">\n",
              "    <div class=\"colab-df-container\">\n",
              "      <div>\n",
              "<style scoped>\n",
              "    .dataframe tbody tr th:only-of-type {\n",
              "        vertical-align: middle;\n",
              "    }\n",
              "\n",
              "    .dataframe tbody tr th {\n",
              "        vertical-align: top;\n",
              "    }\n",
              "\n",
              "    .dataframe thead th {\n",
              "        text-align: right;\n",
              "    }\n",
              "</style>\n",
              "<table border=\"1\" class=\"dataframe\">\n",
              "  <thead>\n",
              "    <tr style=\"text-align: right;\">\n",
              "      <th></th>\n",
              "      <th>car_name</th>\n",
              "      <th>reviews_count</th>\n",
              "      <th>fuel_type</th>\n",
              "      <th>engine_displacement</th>\n",
              "      <th>no_cylinder</th>\n",
              "      <th>seating_capacity</th>\n",
              "      <th>transmission_type</th>\n",
              "      <th>fuel_tank_capacity</th>\n",
              "      <th>body_type</th>\n",
              "      <th>rating</th>\n",
              "      <th>starting_price</th>\n",
              "      <th>ending_price</th>\n",
              "      <th>max_torque_nm</th>\n",
              "      <th>max_torque_rpm</th>\n",
              "      <th>max_power_bhp</th>\n",
              "      <th>max_power_rp</th>\n",
              "    </tr>\n",
              "  </thead>\n",
              "  <tbody>\n",
              "    <tr>\n",
              "      <th>0</th>\n",
              "      <td>Maruti Alto K10</td>\n",
              "      <td>51</td>\n",
              "      <td>Petrol</td>\n",
              "      <td>998</td>\n",
              "      <td>3</td>\n",
              "      <td>5.0</td>\n",
              "      <td>Automatic</td>\n",
              "      <td>27.0</td>\n",
              "      <td>Hatchback</td>\n",
              "      <td>4.5</td>\n",
              "      <td>399000</td>\n",
              "      <td>583000</td>\n",
              "      <td>89.0</td>\n",
              "      <td>3500</td>\n",
              "      <td>65.71</td>\n",
              "      <td>5500</td>\n",
              "    </tr>\n",
              "    <tr>\n",
              "      <th>1</th>\n",
              "      <td>Maruti Brezza</td>\n",
              "      <td>86</td>\n",
              "      <td>Petrol</td>\n",
              "      <td>1462</td>\n",
              "      <td>4</td>\n",
              "      <td>5.0</td>\n",
              "      <td>Automatic</td>\n",
              "      <td>48.0</td>\n",
              "      <td>SUV</td>\n",
              "      <td>4.5</td>\n",
              "      <td>799000</td>\n",
              "      <td>1396000</td>\n",
              "      <td>136.8</td>\n",
              "      <td>4400</td>\n",
              "      <td>101.65</td>\n",
              "      <td>6000</td>\n",
              "    </tr>\n",
              "    <tr>\n",
              "      <th>2</th>\n",
              "      <td>Mahindra Thar</td>\n",
              "      <td>242</td>\n",
              "      <td>Diesel</td>\n",
              "      <td>2184</td>\n",
              "      <td>4</td>\n",
              "      <td>4.0</td>\n",
              "      <td>Automatic</td>\n",
              "      <td>57.0</td>\n",
              "      <td>SUV</td>\n",
              "      <td>4.5</td>\n",
              "      <td>1353000</td>\n",
              "      <td>1603000</td>\n",
              "      <td>300.0</td>\n",
              "      <td>2800</td>\n",
              "      <td>130.00</td>\n",
              "      <td>3750</td>\n",
              "    </tr>\n",
              "    <tr>\n",
              "      <th>3</th>\n",
              "      <td>Mahindra XUV700</td>\n",
              "      <td>313</td>\n",
              "      <td>Diesel</td>\n",
              "      <td>2198</td>\n",
              "      <td>4</td>\n",
              "      <td>7.0</td>\n",
              "      <td>Automatic</td>\n",
              "      <td>60.0</td>\n",
              "      <td>SUV</td>\n",
              "      <td>4.5</td>\n",
              "      <td>1318000</td>\n",
              "      <td>2458000</td>\n",
              "      <td>450.0</td>\n",
              "      <td>2800</td>\n",
              "      <td>182.38</td>\n",
              "      <td>3500</td>\n",
              "    </tr>\n",
              "    <tr>\n",
              "      <th>4</th>\n",
              "      <td>Mahindra Scorpio-N</td>\n",
              "      <td>107</td>\n",
              "      <td>Diesel</td>\n",
              "      <td>2198</td>\n",
              "      <td>4</td>\n",
              "      <td>7.0</td>\n",
              "      <td>Automatic</td>\n",
              "      <td>57.0</td>\n",
              "      <td>SUV</td>\n",
              "      <td>4.5</td>\n",
              "      <td>1199000</td>\n",
              "      <td>2390000</td>\n",
              "      <td>400.0</td>\n",
              "      <td>2750</td>\n",
              "      <td>172.45</td>\n",
              "      <td>3500</td>\n",
              "    </tr>\n",
              "  </tbody>\n",
              "</table>\n",
              "</div>\n",
              "      <button class=\"colab-df-convert\" onclick=\"convertToInteractive('df-2c731d36-8335-4be5-b253-16814059163a')\"\n",
              "              title=\"Convert this dataframe to an interactive table.\"\n",
              "              style=\"display:none;\">\n",
              "        \n",
              "  <svg xmlns=\"http://www.w3.org/2000/svg\" height=\"24px\"viewBox=\"0 0 24 24\"\n",
              "       width=\"24px\">\n",
              "    <path d=\"M0 0h24v24H0V0z\" fill=\"none\"/>\n",
              "    <path d=\"M18.56 5.44l.94 2.06.94-2.06 2.06-.94-2.06-.94-.94-2.06-.94 2.06-2.06.94zm-11 1L8.5 8.5l.94-2.06 2.06-.94-2.06-.94L8.5 2.5l-.94 2.06-2.06.94zm10 10l.94 2.06.94-2.06 2.06-.94-2.06-.94-.94-2.06-.94 2.06-2.06.94z\"/><path d=\"M17.41 7.96l-1.37-1.37c-.4-.4-.92-.59-1.43-.59-.52 0-1.04.2-1.43.59L10.3 9.45l-7.72 7.72c-.78.78-.78 2.05 0 2.83L4 21.41c.39.39.9.59 1.41.59.51 0 1.02-.2 1.41-.59l7.78-7.78 2.81-2.81c.8-.78.8-2.07 0-2.86zM5.41 20L4 18.59l7.72-7.72 1.47 1.35L5.41 20z\"/>\n",
              "  </svg>\n",
              "      </button>\n",
              "      \n",
              "  <style>\n",
              "    .colab-df-container {\n",
              "      display:flex;\n",
              "      flex-wrap:wrap;\n",
              "      gap: 12px;\n",
              "    }\n",
              "\n",
              "    .colab-df-convert {\n",
              "      background-color: #E8F0FE;\n",
              "      border: none;\n",
              "      border-radius: 50%;\n",
              "      cursor: pointer;\n",
              "      display: none;\n",
              "      fill: #1967D2;\n",
              "      height: 32px;\n",
              "      padding: 0 0 0 0;\n",
              "      width: 32px;\n",
              "    }\n",
              "\n",
              "    .colab-df-convert:hover {\n",
              "      background-color: #E2EBFA;\n",
              "      box-shadow: 0px 1px 2px rgba(60, 64, 67, 0.3), 0px 1px 3px 1px rgba(60, 64, 67, 0.15);\n",
              "      fill: #174EA6;\n",
              "    }\n",
              "\n",
              "    [theme=dark] .colab-df-convert {\n",
              "      background-color: #3B4455;\n",
              "      fill: #D2E3FC;\n",
              "    }\n",
              "\n",
              "    [theme=dark] .colab-df-convert:hover {\n",
              "      background-color: #434B5C;\n",
              "      box-shadow: 0px 1px 3px 1px rgba(0, 0, 0, 0.15);\n",
              "      filter: drop-shadow(0px 1px 2px rgba(0, 0, 0, 0.3));\n",
              "      fill: #FFFFFF;\n",
              "    }\n",
              "  </style>\n",
              "\n",
              "      <script>\n",
              "        const buttonEl =\n",
              "          document.querySelector('#df-2c731d36-8335-4be5-b253-16814059163a button.colab-df-convert');\n",
              "        buttonEl.style.display =\n",
              "          google.colab.kernel.accessAllowed ? 'block' : 'none';\n",
              "\n",
              "        async function convertToInteractive(key) {\n",
              "          const element = document.querySelector('#df-2c731d36-8335-4be5-b253-16814059163a');\n",
              "          const dataTable =\n",
              "            await google.colab.kernel.invokeFunction('convertToInteractive',\n",
              "                                                     [key], {});\n",
              "          if (!dataTable) return;\n",
              "\n",
              "          const docLinkHtml = 'Like what you see? Visit the ' +\n",
              "            '<a target=\"_blank\" href=https://colab.research.google.com/notebooks/data_table.ipynb>data table notebook</a>'\n",
              "            + ' to learn more about interactive tables.';\n",
              "          element.innerHTML = '';\n",
              "          dataTable['output_type'] = 'display_data';\n",
              "          await google.colab.output.renderOutput(dataTable, element);\n",
              "          const docLink = document.createElement('div');\n",
              "          docLink.innerHTML = docLinkHtml;\n",
              "          element.appendChild(docLink);\n",
              "        }\n",
              "      </script>\n",
              "    </div>\n",
              "  </div>\n",
              "  "
            ]
          },
          "metadata": {},
          "execution_count": 3
        }
      ]
    },
    {
      "cell_type": "code",
      "source": [
        "mean_price = []\n",
        "for i in range(0,len(df)):\n",
        "  mean_price.append((int(df.starting_price[i])+int(df.ending_price[i]))/2)\n",
        "df['mean_price'] = mean_price\n"
      ],
      "metadata": {
        "id": "7Q9-bKm-DoRB"
      },
      "execution_count": 4,
      "outputs": []
    },
    {
      "cell_type": "code",
      "source": [
        "#understanding a data"
      ],
      "metadata": {
        "id": "WZRbGT8sZP9K"
      },
      "execution_count": 5,
      "outputs": []
    },
    {
      "cell_type": "code",
      "source": [
        "type(df)"
      ],
      "metadata": {
        "colab": {
          "base_uri": "https://localhost:8080/"
        },
        "id": "veFuOp6YmgE2",
        "outputId": "3344cf98-f94a-44cd-934e-cef3c53993d8"
      },
      "execution_count": 6,
      "outputs": [
        {
          "output_type": "execute_result",
          "data": {
            "text/plain": [
              "pandas.core.frame.DataFrame"
            ]
          },
          "metadata": {},
          "execution_count": 6
        }
      ]
    },
    {
      "cell_type": "code",
      "source": [
        "df.info()  #info about dataset"
      ],
      "metadata": {
        "colab": {
          "base_uri": "https://localhost:8080/"
        },
        "id": "JttjwMDYnc1X",
        "outputId": "1df260c7-e243-4e0d-d876-9ae163b1267f"
      },
      "execution_count": 7,
      "outputs": [
        {
          "output_type": "stream",
          "name": "stdout",
          "text": [
            "<class 'pandas.core.frame.DataFrame'>\n",
            "RangeIndex: 203 entries, 0 to 202\n",
            "Data columns (total 17 columns):\n",
            " #   Column               Non-Null Count  Dtype  \n",
            "---  ------               --------------  -----  \n",
            " 0   car_name             203 non-null    object \n",
            " 1   reviews_count        203 non-null    int64  \n",
            " 2   fuel_type            203 non-null    object \n",
            " 3   engine_displacement  203 non-null    int64  \n",
            " 4   no_cylinder          203 non-null    int64  \n",
            " 5   seating_capacity     202 non-null    float64\n",
            " 6   transmission_type    203 non-null    object \n",
            " 7   fuel_tank_capacity   203 non-null    float64\n",
            " 8   body_type            203 non-null    object \n",
            " 9   rating               203 non-null    float64\n",
            " 10  starting_price       203 non-null    int64  \n",
            " 11  ending_price         203 non-null    int64  \n",
            " 12  max_torque_nm        203 non-null    float64\n",
            " 13  max_torque_rpm       203 non-null    int64  \n",
            " 14  max_power_bhp        203 non-null    float64\n",
            " 15  max_power_rp         203 non-null    int64  \n",
            " 16  mean_price           203 non-null    float64\n",
            "dtypes: float64(6), int64(7), object(4)\n",
            "memory usage: 27.1+ KB\n"
          ]
        }
      ]
    },
    {
      "cell_type": "code",
      "source": [
        "df.shape  #row - 203 , columns - 16"
      ],
      "metadata": {
        "colab": {
          "base_uri": "https://localhost:8080/"
        },
        "id": "Ks8_Riv2ngsV",
        "outputId": "78f02762-57b1-43c0-ffaa-e3372c84a829"
      },
      "execution_count": 8,
      "outputs": [
        {
          "output_type": "execute_result",
          "data": {
            "text/plain": [
              "(203, 17)"
            ]
          },
          "metadata": {},
          "execution_count": 8
        }
      ]
    },
    {
      "cell_type": "code",
      "source": [
        "df.size  #total elements - 3248"
      ],
      "metadata": {
        "colab": {
          "base_uri": "https://localhost:8080/"
        },
        "id": "cUM5oirDnpau",
        "outputId": "d1e65ec0-e2b9-4d26-c7af-5c2734bde196"
      },
      "execution_count": 9,
      "outputs": [
        {
          "output_type": "execute_result",
          "data": {
            "text/plain": [
              "3451"
            ]
          },
          "metadata": {},
          "execution_count": 9
        }
      ]
    },
    {
      "cell_type": "code",
      "source": [
        "df.nunique()"
      ],
      "metadata": {
        "colab": {
          "base_uri": "https://localhost:8080/"
        },
        "id": "tetDuIYonz9y",
        "outputId": "e1bc2ae0-6b98-45ba-9d09-fb2fac0f40e9"
      },
      "execution_count": 10,
      "outputs": [
        {
          "output_type": "execute_result",
          "data": {
            "text/plain": [
              "car_name               199\n",
              "reviews_count           97\n",
              "fuel_type                4\n",
              "engine_displacement     76\n",
              "no_cylinder              9\n",
              "seating_capacity         6\n",
              "transmission_type        3\n",
              "fuel_tank_capacity      47\n",
              "body_type               11\n",
              "rating                   5\n",
              "starting_price         190\n",
              "ending_price           188\n",
              "max_torque_nm           82\n",
              "max_torque_rpm          50\n",
              "max_power_bhp          143\n",
              "max_power_rp            36\n",
              "mean_price             191\n",
              "dtype: int64"
            ]
          },
          "metadata": {},
          "execution_count": 10
        }
      ]
    },
    {
      "cell_type": "code",
      "source": [
        "#COLLECT DESCRIPIVE STATISTICS\n",
        "df.describe()"
      ],
      "metadata": {
        "colab": {
          "base_uri": "https://localhost:8080/",
          "height": 364
        },
        "id": "ULgjT6_NZGDq",
        "outputId": "420184a9-5639-49b0-e86c-915b077ff403"
      },
      "execution_count": 11,
      "outputs": [
        {
          "output_type": "execute_result",
          "data": {
            "text/plain": [
              "       reviews_count  engine_displacement  no_cylinder  seating_capacity  \\\n",
              "count     203.000000           203.000000   203.000000        202.000000   \n",
              "mean      118.684729          2305.921182     4.709360          5.014851   \n",
              "std       314.331318          1493.837786     2.538664          1.161050   \n",
              "min         1.000000             0.000000     0.000000          2.000000   \n",
              "25%         5.000000          1339.500000     4.000000          5.000000   \n",
              "50%        14.000000          1991.000000     4.000000          5.000000   \n",
              "75%        83.000000          2996.000000     6.000000          5.000000   \n",
              "max      2392.000000          6750.000000    12.000000          8.000000   \n",
              "\n",
              "       fuel_tank_capacity      rating  starting_price  ending_price  \\\n",
              "count          203.000000  203.000000    2.030000e+02  2.030000e+02   \n",
              "mean            46.143842    4.433498    9.443640e+06  1.112005e+07   \n",
              "std             28.904207    0.280136    1.357035e+07  1.551746e+07   \n",
              "min              0.000000    3.000000    3.390000e+05  3.610000e+05   \n",
              "25%             33.500000    4.500000    9.455000e+05  1.407500e+06   \n",
              "50%             50.000000    4.500000    4.312000e+06  4.600000e+06   \n",
              "75%             66.000000    4.500000    1.160000e+07  1.575000e+07   \n",
              "max            100.000000    5.000000    7.060000e+07  9.000000e+07   \n",
              "\n",
              "       max_torque_nm  max_torque_rpm  max_power_bhp  max_power_rp  \\\n",
              "count     203.000000      203.000000     203.000000    203.000000   \n",
              "mean      402.804828     3346.507389     266.576995   4790.147783   \n",
              "std       237.116638     1594.960077     193.474807   1990.876835   \n",
              "min        16.100000        0.000000      10.800000      0.000000   \n",
              "25%       201.000000     2500.000000     108.555000   3800.000000   \n",
              "50%       360.000000     3500.000000     187.740000   5500.000000   \n",
              "75%       590.000000     4500.000000     384.870000   6000.000000   \n",
              "max      1020.000000     7000.000000     788.520000   8500.000000   \n",
              "\n",
              "         mean_price  \n",
              "count  2.030000e+02  \n",
              "mean   1.028185e+07  \n",
              "std    1.445503e+07  \n",
              "min    3.610000e+05  \n",
              "25%    1.110750e+06  \n",
              "50%    4.435000e+06  \n",
              "75%    1.460000e+07  \n",
              "max    7.625000e+07  "
            ],
            "text/html": [
              "\n",
              "  <div id=\"df-fd100ed8-d234-4b1b-934b-b9bc10949443\">\n",
              "    <div class=\"colab-df-container\">\n",
              "      <div>\n",
              "<style scoped>\n",
              "    .dataframe tbody tr th:only-of-type {\n",
              "        vertical-align: middle;\n",
              "    }\n",
              "\n",
              "    .dataframe tbody tr th {\n",
              "        vertical-align: top;\n",
              "    }\n",
              "\n",
              "    .dataframe thead th {\n",
              "        text-align: right;\n",
              "    }\n",
              "</style>\n",
              "<table border=\"1\" class=\"dataframe\">\n",
              "  <thead>\n",
              "    <tr style=\"text-align: right;\">\n",
              "      <th></th>\n",
              "      <th>reviews_count</th>\n",
              "      <th>engine_displacement</th>\n",
              "      <th>no_cylinder</th>\n",
              "      <th>seating_capacity</th>\n",
              "      <th>fuel_tank_capacity</th>\n",
              "      <th>rating</th>\n",
              "      <th>starting_price</th>\n",
              "      <th>ending_price</th>\n",
              "      <th>max_torque_nm</th>\n",
              "      <th>max_torque_rpm</th>\n",
              "      <th>max_power_bhp</th>\n",
              "      <th>max_power_rp</th>\n",
              "      <th>mean_price</th>\n",
              "    </tr>\n",
              "  </thead>\n",
              "  <tbody>\n",
              "    <tr>\n",
              "      <th>count</th>\n",
              "      <td>203.000000</td>\n",
              "      <td>203.000000</td>\n",
              "      <td>203.000000</td>\n",
              "      <td>202.000000</td>\n",
              "      <td>203.000000</td>\n",
              "      <td>203.000000</td>\n",
              "      <td>2.030000e+02</td>\n",
              "      <td>2.030000e+02</td>\n",
              "      <td>203.000000</td>\n",
              "      <td>203.000000</td>\n",
              "      <td>203.000000</td>\n",
              "      <td>203.000000</td>\n",
              "      <td>2.030000e+02</td>\n",
              "    </tr>\n",
              "    <tr>\n",
              "      <th>mean</th>\n",
              "      <td>118.684729</td>\n",
              "      <td>2305.921182</td>\n",
              "      <td>4.709360</td>\n",
              "      <td>5.014851</td>\n",
              "      <td>46.143842</td>\n",
              "      <td>4.433498</td>\n",
              "      <td>9.443640e+06</td>\n",
              "      <td>1.112005e+07</td>\n",
              "      <td>402.804828</td>\n",
              "      <td>3346.507389</td>\n",
              "      <td>266.576995</td>\n",
              "      <td>4790.147783</td>\n",
              "      <td>1.028185e+07</td>\n",
              "    </tr>\n",
              "    <tr>\n",
              "      <th>std</th>\n",
              "      <td>314.331318</td>\n",
              "      <td>1493.837786</td>\n",
              "      <td>2.538664</td>\n",
              "      <td>1.161050</td>\n",
              "      <td>28.904207</td>\n",
              "      <td>0.280136</td>\n",
              "      <td>1.357035e+07</td>\n",
              "      <td>1.551746e+07</td>\n",
              "      <td>237.116638</td>\n",
              "      <td>1594.960077</td>\n",
              "      <td>193.474807</td>\n",
              "      <td>1990.876835</td>\n",
              "      <td>1.445503e+07</td>\n",
              "    </tr>\n",
              "    <tr>\n",
              "      <th>min</th>\n",
              "      <td>1.000000</td>\n",
              "      <td>0.000000</td>\n",
              "      <td>0.000000</td>\n",
              "      <td>2.000000</td>\n",
              "      <td>0.000000</td>\n",
              "      <td>3.000000</td>\n",
              "      <td>3.390000e+05</td>\n",
              "      <td>3.610000e+05</td>\n",
              "      <td>16.100000</td>\n",
              "      <td>0.000000</td>\n",
              "      <td>10.800000</td>\n",
              "      <td>0.000000</td>\n",
              "      <td>3.610000e+05</td>\n",
              "    </tr>\n",
              "    <tr>\n",
              "      <th>25%</th>\n",
              "      <td>5.000000</td>\n",
              "      <td>1339.500000</td>\n",
              "      <td>4.000000</td>\n",
              "      <td>5.000000</td>\n",
              "      <td>33.500000</td>\n",
              "      <td>4.500000</td>\n",
              "      <td>9.455000e+05</td>\n",
              "      <td>1.407500e+06</td>\n",
              "      <td>201.000000</td>\n",
              "      <td>2500.000000</td>\n",
              "      <td>108.555000</td>\n",
              "      <td>3800.000000</td>\n",
              "      <td>1.110750e+06</td>\n",
              "    </tr>\n",
              "    <tr>\n",
              "      <th>50%</th>\n",
              "      <td>14.000000</td>\n",
              "      <td>1991.000000</td>\n",
              "      <td>4.000000</td>\n",
              "      <td>5.000000</td>\n",
              "      <td>50.000000</td>\n",
              "      <td>4.500000</td>\n",
              "      <td>4.312000e+06</td>\n",
              "      <td>4.600000e+06</td>\n",
              "      <td>360.000000</td>\n",
              "      <td>3500.000000</td>\n",
              "      <td>187.740000</td>\n",
              "      <td>5500.000000</td>\n",
              "      <td>4.435000e+06</td>\n",
              "    </tr>\n",
              "    <tr>\n",
              "      <th>75%</th>\n",
              "      <td>83.000000</td>\n",
              "      <td>2996.000000</td>\n",
              "      <td>6.000000</td>\n",
              "      <td>5.000000</td>\n",
              "      <td>66.000000</td>\n",
              "      <td>4.500000</td>\n",
              "      <td>1.160000e+07</td>\n",
              "      <td>1.575000e+07</td>\n",
              "      <td>590.000000</td>\n",
              "      <td>4500.000000</td>\n",
              "      <td>384.870000</td>\n",
              "      <td>6000.000000</td>\n",
              "      <td>1.460000e+07</td>\n",
              "    </tr>\n",
              "    <tr>\n",
              "      <th>max</th>\n",
              "      <td>2392.000000</td>\n",
              "      <td>6750.000000</td>\n",
              "      <td>12.000000</td>\n",
              "      <td>8.000000</td>\n",
              "      <td>100.000000</td>\n",
              "      <td>5.000000</td>\n",
              "      <td>7.060000e+07</td>\n",
              "      <td>9.000000e+07</td>\n",
              "      <td>1020.000000</td>\n",
              "      <td>7000.000000</td>\n",
              "      <td>788.520000</td>\n",
              "      <td>8500.000000</td>\n",
              "      <td>7.625000e+07</td>\n",
              "    </tr>\n",
              "  </tbody>\n",
              "</table>\n",
              "</div>\n",
              "      <button class=\"colab-df-convert\" onclick=\"convertToInteractive('df-fd100ed8-d234-4b1b-934b-b9bc10949443')\"\n",
              "              title=\"Convert this dataframe to an interactive table.\"\n",
              "              style=\"display:none;\">\n",
              "        \n",
              "  <svg xmlns=\"http://www.w3.org/2000/svg\" height=\"24px\"viewBox=\"0 0 24 24\"\n",
              "       width=\"24px\">\n",
              "    <path d=\"M0 0h24v24H0V0z\" fill=\"none\"/>\n",
              "    <path d=\"M18.56 5.44l.94 2.06.94-2.06 2.06-.94-2.06-.94-.94-2.06-.94 2.06-2.06.94zm-11 1L8.5 8.5l.94-2.06 2.06-.94-2.06-.94L8.5 2.5l-.94 2.06-2.06.94zm10 10l.94 2.06.94-2.06 2.06-.94-2.06-.94-.94-2.06-.94 2.06-2.06.94z\"/><path d=\"M17.41 7.96l-1.37-1.37c-.4-.4-.92-.59-1.43-.59-.52 0-1.04.2-1.43.59L10.3 9.45l-7.72 7.72c-.78.78-.78 2.05 0 2.83L4 21.41c.39.39.9.59 1.41.59.51 0 1.02-.2 1.41-.59l7.78-7.78 2.81-2.81c.8-.78.8-2.07 0-2.86zM5.41 20L4 18.59l7.72-7.72 1.47 1.35L5.41 20z\"/>\n",
              "  </svg>\n",
              "      </button>\n",
              "      \n",
              "  <style>\n",
              "    .colab-df-container {\n",
              "      display:flex;\n",
              "      flex-wrap:wrap;\n",
              "      gap: 12px;\n",
              "    }\n",
              "\n",
              "    .colab-df-convert {\n",
              "      background-color: #E8F0FE;\n",
              "      border: none;\n",
              "      border-radius: 50%;\n",
              "      cursor: pointer;\n",
              "      display: none;\n",
              "      fill: #1967D2;\n",
              "      height: 32px;\n",
              "      padding: 0 0 0 0;\n",
              "      width: 32px;\n",
              "    }\n",
              "\n",
              "    .colab-df-convert:hover {\n",
              "      background-color: #E2EBFA;\n",
              "      box-shadow: 0px 1px 2px rgba(60, 64, 67, 0.3), 0px 1px 3px 1px rgba(60, 64, 67, 0.15);\n",
              "      fill: #174EA6;\n",
              "    }\n",
              "\n",
              "    [theme=dark] .colab-df-convert {\n",
              "      background-color: #3B4455;\n",
              "      fill: #D2E3FC;\n",
              "    }\n",
              "\n",
              "    [theme=dark] .colab-df-convert:hover {\n",
              "      background-color: #434B5C;\n",
              "      box-shadow: 0px 1px 3px 1px rgba(0, 0, 0, 0.15);\n",
              "      filter: drop-shadow(0px 1px 2px rgba(0, 0, 0, 0.3));\n",
              "      fill: #FFFFFF;\n",
              "    }\n",
              "  </style>\n",
              "\n",
              "      <script>\n",
              "        const buttonEl =\n",
              "          document.querySelector('#df-fd100ed8-d234-4b1b-934b-b9bc10949443 button.colab-df-convert');\n",
              "        buttonEl.style.display =\n",
              "          google.colab.kernel.accessAllowed ? 'block' : 'none';\n",
              "\n",
              "        async function convertToInteractive(key) {\n",
              "          const element = document.querySelector('#df-fd100ed8-d234-4b1b-934b-b9bc10949443');\n",
              "          const dataTable =\n",
              "            await google.colab.kernel.invokeFunction('convertToInteractive',\n",
              "                                                     [key], {});\n",
              "          if (!dataTable) return;\n",
              "\n",
              "          const docLinkHtml = 'Like what you see? Visit the ' +\n",
              "            '<a target=\"_blank\" href=https://colab.research.google.com/notebooks/data_table.ipynb>data table notebook</a>'\n",
              "            + ' to learn more about interactive tables.';\n",
              "          element.innerHTML = '';\n",
              "          dataTable['output_type'] = 'display_data';\n",
              "          await google.colab.output.renderOutput(dataTable, element);\n",
              "          const docLink = document.createElement('div');\n",
              "          docLink.innerHTML = docLinkHtml;\n",
              "          element.appendChild(docLink);\n",
              "        }\n",
              "      </script>\n",
              "    </div>\n",
              "  </div>\n",
              "  "
            ]
          },
          "metadata": {},
          "execution_count": 11
        }
      ]
    },
    {
      "cell_type": "code",
      "source": [
        "#FIND THE MEAN OR MAX OF FULE TANK CAPACITY\n",
        "\n",
        "Fule_Tank_Mean = df['fuel_tank_capacity'].mean()\n",
        "print('Fule tank mean value:',Fule_Tank_Mean)\n",
        "\n",
        "print('\\n')\n",
        "\n",
        "Fule_Tank_Max = df['fuel_tank_capacity'].max()\n",
        "print('Fule tank max value:',Fule_Tank_Max)\n",
        "\n",
        "print('\\n')\n",
        "\n",
        "#FIND THE MEAN OR MAX ENGINE DISPLACEMENT\n",
        "\n",
        "Eng_Disp_Mean = df['engine_displacement'].mean()\n",
        "print('Mean engine displacement:',Eng_Disp_Mean )\n",
        "\n",
        "print('\\n')\n",
        "\n",
        "Eng_Disp_Max = df['engine_displacement'].max()\n",
        "print('Max engine displacement:',Eng_Disp_Max )"
      ],
      "metadata": {
        "colab": {
          "base_uri": "https://localhost:8080/"
        },
        "id": "bodKzMdBZt6b",
        "outputId": "d51b6f4f-7f5a-4bbd-895c-b45bd2d4c051"
      },
      "execution_count": 12,
      "outputs": [
        {
          "output_type": "stream",
          "name": "stdout",
          "text": [
            "Fule tank mean value: 46.14384236453202\n",
            "\n",
            "\n",
            "Fule tank max value: 100.0\n",
            "\n",
            "\n",
            "Mean engine displacement: 2305.92118226601\n",
            "\n",
            "\n",
            "Max engine displacement: 6750\n"
          ]
        }
      ]
    },
    {
      "cell_type": "code",
      "source": [
        "#data cleaning"
      ],
      "metadata": {
        "id": "KUUSzrf5ZVxm"
      },
      "execution_count": 13,
      "outputs": []
    },
    {
      "cell_type": "code",
      "source": [
        "df.drop(['max_torque_nm','max_power_bhp'], axis = 1, inplace = True)\n",
        "df.head()"
      ],
      "metadata": {
        "colab": {
          "base_uri": "https://localhost:8080/",
          "height": 374
        },
        "id": "5kKE5j3_Y6mr",
        "outputId": "a45c2850-e565-4d66-ffd2-dad3615f9640"
      },
      "execution_count": 14,
      "outputs": [
        {
          "output_type": "execute_result",
          "data": {
            "text/plain": [
              "             car_name  reviews_count fuel_type  engine_displacement  \\\n",
              "0     Maruti Alto K10             51    Petrol                  998   \n",
              "1       Maruti Brezza             86    Petrol                 1462   \n",
              "2       Mahindra Thar            242    Diesel                 2184   \n",
              "3     Mahindra XUV700            313    Diesel                 2198   \n",
              "4  Mahindra Scorpio-N            107    Diesel                 2198   \n",
              "\n",
              "   no_cylinder  seating_capacity transmission_type  fuel_tank_capacity  \\\n",
              "0            3               5.0         Automatic                27.0   \n",
              "1            4               5.0         Automatic                48.0   \n",
              "2            4               4.0         Automatic                57.0   \n",
              "3            4               7.0         Automatic                60.0   \n",
              "4            4               7.0         Automatic                57.0   \n",
              "\n",
              "   body_type  rating  starting_price  ending_price  max_torque_rpm  \\\n",
              "0  Hatchback     4.5          399000        583000            3500   \n",
              "1        SUV     4.5          799000       1396000            4400   \n",
              "2        SUV     4.5         1353000       1603000            2800   \n",
              "3        SUV     4.5         1318000       2458000            2800   \n",
              "4        SUV     4.5         1199000       2390000            2750   \n",
              "\n",
              "   max_power_rp  mean_price  \n",
              "0          5500    491000.0  \n",
              "1          6000   1097500.0  \n",
              "2          3750   1478000.0  \n",
              "3          3500   1888000.0  \n",
              "4          3500   1794500.0  "
            ],
            "text/html": [
              "\n",
              "  <div id=\"df-3283af78-2409-4a39-a129-bd957e6044d1\">\n",
              "    <div class=\"colab-df-container\">\n",
              "      <div>\n",
              "<style scoped>\n",
              "    .dataframe tbody tr th:only-of-type {\n",
              "        vertical-align: middle;\n",
              "    }\n",
              "\n",
              "    .dataframe tbody tr th {\n",
              "        vertical-align: top;\n",
              "    }\n",
              "\n",
              "    .dataframe thead th {\n",
              "        text-align: right;\n",
              "    }\n",
              "</style>\n",
              "<table border=\"1\" class=\"dataframe\">\n",
              "  <thead>\n",
              "    <tr style=\"text-align: right;\">\n",
              "      <th></th>\n",
              "      <th>car_name</th>\n",
              "      <th>reviews_count</th>\n",
              "      <th>fuel_type</th>\n",
              "      <th>engine_displacement</th>\n",
              "      <th>no_cylinder</th>\n",
              "      <th>seating_capacity</th>\n",
              "      <th>transmission_type</th>\n",
              "      <th>fuel_tank_capacity</th>\n",
              "      <th>body_type</th>\n",
              "      <th>rating</th>\n",
              "      <th>starting_price</th>\n",
              "      <th>ending_price</th>\n",
              "      <th>max_torque_rpm</th>\n",
              "      <th>max_power_rp</th>\n",
              "      <th>mean_price</th>\n",
              "    </tr>\n",
              "  </thead>\n",
              "  <tbody>\n",
              "    <tr>\n",
              "      <th>0</th>\n",
              "      <td>Maruti Alto K10</td>\n",
              "      <td>51</td>\n",
              "      <td>Petrol</td>\n",
              "      <td>998</td>\n",
              "      <td>3</td>\n",
              "      <td>5.0</td>\n",
              "      <td>Automatic</td>\n",
              "      <td>27.0</td>\n",
              "      <td>Hatchback</td>\n",
              "      <td>4.5</td>\n",
              "      <td>399000</td>\n",
              "      <td>583000</td>\n",
              "      <td>3500</td>\n",
              "      <td>5500</td>\n",
              "      <td>491000.0</td>\n",
              "    </tr>\n",
              "    <tr>\n",
              "      <th>1</th>\n",
              "      <td>Maruti Brezza</td>\n",
              "      <td>86</td>\n",
              "      <td>Petrol</td>\n",
              "      <td>1462</td>\n",
              "      <td>4</td>\n",
              "      <td>5.0</td>\n",
              "      <td>Automatic</td>\n",
              "      <td>48.0</td>\n",
              "      <td>SUV</td>\n",
              "      <td>4.5</td>\n",
              "      <td>799000</td>\n",
              "      <td>1396000</td>\n",
              "      <td>4400</td>\n",
              "      <td>6000</td>\n",
              "      <td>1097500.0</td>\n",
              "    </tr>\n",
              "    <tr>\n",
              "      <th>2</th>\n",
              "      <td>Mahindra Thar</td>\n",
              "      <td>242</td>\n",
              "      <td>Diesel</td>\n",
              "      <td>2184</td>\n",
              "      <td>4</td>\n",
              "      <td>4.0</td>\n",
              "      <td>Automatic</td>\n",
              "      <td>57.0</td>\n",
              "      <td>SUV</td>\n",
              "      <td>4.5</td>\n",
              "      <td>1353000</td>\n",
              "      <td>1603000</td>\n",
              "      <td>2800</td>\n",
              "      <td>3750</td>\n",
              "      <td>1478000.0</td>\n",
              "    </tr>\n",
              "    <tr>\n",
              "      <th>3</th>\n",
              "      <td>Mahindra XUV700</td>\n",
              "      <td>313</td>\n",
              "      <td>Diesel</td>\n",
              "      <td>2198</td>\n",
              "      <td>4</td>\n",
              "      <td>7.0</td>\n",
              "      <td>Automatic</td>\n",
              "      <td>60.0</td>\n",
              "      <td>SUV</td>\n",
              "      <td>4.5</td>\n",
              "      <td>1318000</td>\n",
              "      <td>2458000</td>\n",
              "      <td>2800</td>\n",
              "      <td>3500</td>\n",
              "      <td>1888000.0</td>\n",
              "    </tr>\n",
              "    <tr>\n",
              "      <th>4</th>\n",
              "      <td>Mahindra Scorpio-N</td>\n",
              "      <td>107</td>\n",
              "      <td>Diesel</td>\n",
              "      <td>2198</td>\n",
              "      <td>4</td>\n",
              "      <td>7.0</td>\n",
              "      <td>Automatic</td>\n",
              "      <td>57.0</td>\n",
              "      <td>SUV</td>\n",
              "      <td>4.5</td>\n",
              "      <td>1199000</td>\n",
              "      <td>2390000</td>\n",
              "      <td>2750</td>\n",
              "      <td>3500</td>\n",
              "      <td>1794500.0</td>\n",
              "    </tr>\n",
              "  </tbody>\n",
              "</table>\n",
              "</div>\n",
              "      <button class=\"colab-df-convert\" onclick=\"convertToInteractive('df-3283af78-2409-4a39-a129-bd957e6044d1')\"\n",
              "              title=\"Convert this dataframe to an interactive table.\"\n",
              "              style=\"display:none;\">\n",
              "        \n",
              "  <svg xmlns=\"http://www.w3.org/2000/svg\" height=\"24px\"viewBox=\"0 0 24 24\"\n",
              "       width=\"24px\">\n",
              "    <path d=\"M0 0h24v24H0V0z\" fill=\"none\"/>\n",
              "    <path d=\"M18.56 5.44l.94 2.06.94-2.06 2.06-.94-2.06-.94-.94-2.06-.94 2.06-2.06.94zm-11 1L8.5 8.5l.94-2.06 2.06-.94-2.06-.94L8.5 2.5l-.94 2.06-2.06.94zm10 10l.94 2.06.94-2.06 2.06-.94-2.06-.94-.94-2.06-.94 2.06-2.06.94z\"/><path d=\"M17.41 7.96l-1.37-1.37c-.4-.4-.92-.59-1.43-.59-.52 0-1.04.2-1.43.59L10.3 9.45l-7.72 7.72c-.78.78-.78 2.05 0 2.83L4 21.41c.39.39.9.59 1.41.59.51 0 1.02-.2 1.41-.59l7.78-7.78 2.81-2.81c.8-.78.8-2.07 0-2.86zM5.41 20L4 18.59l7.72-7.72 1.47 1.35L5.41 20z\"/>\n",
              "  </svg>\n",
              "      </button>\n",
              "      \n",
              "  <style>\n",
              "    .colab-df-container {\n",
              "      display:flex;\n",
              "      flex-wrap:wrap;\n",
              "      gap: 12px;\n",
              "    }\n",
              "\n",
              "    .colab-df-convert {\n",
              "      background-color: #E8F0FE;\n",
              "      border: none;\n",
              "      border-radius: 50%;\n",
              "      cursor: pointer;\n",
              "      display: none;\n",
              "      fill: #1967D2;\n",
              "      height: 32px;\n",
              "      padding: 0 0 0 0;\n",
              "      width: 32px;\n",
              "    }\n",
              "\n",
              "    .colab-df-convert:hover {\n",
              "      background-color: #E2EBFA;\n",
              "      box-shadow: 0px 1px 2px rgba(60, 64, 67, 0.3), 0px 1px 3px 1px rgba(60, 64, 67, 0.15);\n",
              "      fill: #174EA6;\n",
              "    }\n",
              "\n",
              "    [theme=dark] .colab-df-convert {\n",
              "      background-color: #3B4455;\n",
              "      fill: #D2E3FC;\n",
              "    }\n",
              "\n",
              "    [theme=dark] .colab-df-convert:hover {\n",
              "      background-color: #434B5C;\n",
              "      box-shadow: 0px 1px 3px 1px rgba(0, 0, 0, 0.15);\n",
              "      filter: drop-shadow(0px 1px 2px rgba(0, 0, 0, 0.3));\n",
              "      fill: #FFFFFF;\n",
              "    }\n",
              "  </style>\n",
              "\n",
              "      <script>\n",
              "        const buttonEl =\n",
              "          document.querySelector('#df-3283af78-2409-4a39-a129-bd957e6044d1 button.colab-df-convert');\n",
              "        buttonEl.style.display =\n",
              "          google.colab.kernel.accessAllowed ? 'block' : 'none';\n",
              "\n",
              "        async function convertToInteractive(key) {\n",
              "          const element = document.querySelector('#df-3283af78-2409-4a39-a129-bd957e6044d1');\n",
              "          const dataTable =\n",
              "            await google.colab.kernel.invokeFunction('convertToInteractive',\n",
              "                                                     [key], {});\n",
              "          if (!dataTable) return;\n",
              "\n",
              "          const docLinkHtml = 'Like what you see? Visit the ' +\n",
              "            '<a target=\"_blank\" href=https://colab.research.google.com/notebooks/data_table.ipynb>data table notebook</a>'\n",
              "            + ' to learn more about interactive tables.';\n",
              "          element.innerHTML = '';\n",
              "          dataTable['output_type'] = 'display_data';\n",
              "          await google.colab.output.renderOutput(dataTable, element);\n",
              "          const docLink = document.createElement('div');\n",
              "          docLink.innerHTML = docLinkHtml;\n",
              "          element.appendChild(docLink);\n",
              "        }\n",
              "      </script>\n",
              "    </div>\n",
              "  </div>\n",
              "  "
            ]
          },
          "metadata": {},
          "execution_count": 14
        }
      ]
    },
    {
      "cell_type": "code",
      "source": [
        "#exploratory data analysis"
      ],
      "metadata": {
        "id": "JAD81TSWZaEQ"
      },
      "execution_count": 15,
      "outputs": []
    },
    {
      "cell_type": "code",
      "source": [
        "#fuel tupe visulation\n",
        "\n",
        "import matplotlib.pyplot as plt\n",
        "import seaborn as sns\n",
        "plt.figure(figsize=(12,5))\n",
        "\n",
        "plt.subplot(1,3,1)\n",
        "data = df['fuel_type'].value_counts()\n",
        "x = list(data)\n",
        "mylabels = data.index\n",
        "\n",
        "patches, texts = plt.pie(x, labels = mylabels,startangle=270)\n",
        "plt.legend(patches, mylabels)\n",
        "plt.axis('equal')\n",
        "plt.tight_layout()\n",
        "plt.title('fuel type pices',fontsize =20,color = 'green')\n",
        "\n",
        "plt.subplot(1,3,3)\n",
        "sns.countplot(x = 'fuel_type',data = df)\n",
        "\n",
        "plt.show() \n"
      ],
      "metadata": {
        "colab": {
          "base_uri": "https://localhost:8080/",
          "height": 422
        },
        "id": "5MrPbnlXpgEk",
        "outputId": "d1b4bef3-a6a5-4d1b-f52d-5a4a54103ce8"
      },
      "execution_count": 16,
      "outputs": [
        {
          "output_type": "display_data",
          "data": {
            "text/plain": [
              "<Figure size 864x360 with 2 Axes>"
            ],
            "image/png": "[encoded data removed]"
          },
          "metadata": {
            "needs_background": "light"
          }
        }
      ]
    },
    {
      "cell_type": "code",
      "source": [
        "# transmission type visulation\n",
        "plt.figure(figsize=(12,5))\n",
        "\n",
        "data = df['transmission_type'].value_counts()\n",
        "x = list(data)\n",
        "mylabels = data.index\n",
        "plt.subplot(1,3,1)\n",
        "\n",
        "patches, texts = plt.pie(x, labels = mylabels,startangle=180)\n",
        "plt.legend(patches, mylabels)\n",
        "plt.axis('equal')\n",
        "plt.tight_layout()\n",
        "plt.title('transmission type pices',fontsize =20,color = 'red')\n",
        "\n",
        "plt.subplot(1,3,3)\n",
        "\n",
        "\n",
        "sns.countplot(x = 'transmission_type',data = df)\n",
        "plt.show() "
      ],
      "metadata": {
        "colab": {
          "base_uri": "https://localhost:8080/",
          "height": 422
        },
        "id": "jgbJdpfup3xF",
        "outputId": "67d1e51d-8631-469c-ac54-ba6cd7b90826"
      },
      "execution_count": 17,
      "outputs": [
        {
          "output_type": "display_data",
          "data": {
            "text/plain": [
              "<Figure size 864x360 with 2 Axes>"
            ],
            "image/png": "[encoded data removed]"
          },
          "metadata": {
            "needs_background": "light"
          }
        }
      ]
    },
    {
      "cell_type": "code",
      "source": [
        "#seating capacity vise counts\n",
        "sns.countplot(x = 'seating_capacity',data = df)"
      ],
      "metadata": {
        "colab": {
          "base_uri": "https://localhost:8080/",
          "height": 297
        },
        "id": "xTSlwg7cqY8B",
        "outputId": "bfea78b0-5ef5-436b-dbe6-99d22fdffbc6"
      },
      "execution_count": 18,
      "outputs": [
        {
          "output_type": "execute_result",
          "data": {
            "text/plain": [
              "<AxesSubplot:xlabel='seating_capacity', ylabel='count'>"
            ]
          },
          "metadata": {},
          "execution_count": 18
        },
        {
          "output_type": "display_data",
          "data": {
            "text/plain": [
              "<Figure size 432x288 with 1 Axes>"
            ],
            "image/png": "[encoded data removed]"
          },
          "metadata": {
            "needs_background": "light"
          }
        }
      ]
    },
    {
      "cell_type": "code",
      "source": [
        "#body type counts\n",
        "sns.countplot(y = 'body_type',data = df)"
      ],
      "metadata": {
        "colab": {
          "base_uri": "https://localhost:8080/",
          "height": 296
        },
        "id": "OZa_hfgFqt-q",
        "outputId": "6ea7950a-5365-4879-b56f-e8045c0db7dd"
      },
      "execution_count": 19,
      "outputs": [
        {
          "output_type": "execute_result",
          "data": {
            "text/plain": [
              "<AxesSubplot:xlabel='count', ylabel='body_type'>"
            ]
          },
          "metadata": {},
          "execution_count": 19
        },
        {
          "output_type": "display_data",
          "data": {
            "text/plain": [
              "<Figure size 432x288 with 1 Axes>"
            ],
            "image/png": "[encoded data removed]"
          },
          "metadata": {
            "needs_background": "light"
          }
        }
      ]
    },
    {
      "cell_type": "code",
      "source": [
        "#body type rating analysis\n",
        "plt.figure(figsize=(20,5))\n",
        "\n",
        "plt.subplot(1,2,1)\n",
        "df.groupby(['body_type','rating']).size().plot(kind = 'bar')\n",
        "\n",
        "plt.subplot(1,2,2)\n",
        "sns.barplot(data=df,y='mean_price',x='body_type',hue='rating')\n",
        "plt.xlabel(\"body type\",size=15,c=\"r\")\n",
        "plt.ylabel(\"price\",size=15,c=\"r\")\n",
        "plt.xticks(rotation=\"vertical\",size=10)\n",
        "plt.title(\"Effect of body type on mean price\",size=15,c=\"red\")\n",
        "\n",
        "plt.show()"
      ],
      "metadata": {
        "colab": {
          "base_uri": "https://localhost:8080/",
          "height": 421
        },
        "id": "OOnnhqCu492y",
        "outputId": "804280ce-ba7f-4a73-9cd1-fbdaf096d0ea"
      },
      "execution_count": 20,
      "outputs": [
        {
          "output_type": "display_data",
          "data": {
            "text/plain": [
              "<Figure size 1440x360 with 2 Axes>"
            ],
            "image/png": "[encoded data removed]"
          },
          "metadata": {
            "needs_background": "light"
          }
        }
      ]
    },
    {
      "cell_type": "code",
      "source": [
        "#transmission type rating analysis\n",
        "plt.figure(figsize=(20,5))\n",
        "\n",
        "plt.subplot(1,2,1)\n",
        "df.groupby(['transmission_type','rating']).size().plot(kind = 'bar')\n",
        "\n",
        "\n",
        "plt.subplot(1,2,2)\n",
        "sns.barplot(data=df,y='mean_price',x='transmission_type',hue='rating')\n",
        "plt.xlabel(\"transmission type\",size=15,c=\"r\")\n",
        "plt.ylabel(\"price\",size=15,c=\"r\")\n",
        "plt.xticks(size=10)\n",
        "plt.title(\"Effect of transmission type on mean price\",size=15,c=\"red\")\n",
        "\n",
        "plt.show()"
      ],
      "metadata": {
        "colab": {
          "base_uri": "https://localhost:8080/",
          "height": 409
        },
        "id": "tDowthC1-Nt2",
        "outputId": "aed7ade9-d7f4-4376-ac5a-a4c9cc4afd78"
      },
      "execution_count": 21,
      "outputs": [
        {
          "output_type": "display_data",
          "data": {
            "text/plain": [
              "<Figure size 1440x360 with 2 Axes>"
            ],
            "image/png": "[encoded data removed]"
          },
          "metadata": {
            "needs_background": "light"
          }
        }
      ]
    },
    {
      "cell_type": "code",
      "source": [
        "#seating capacity rating analysis\n",
        "plt.figure(figsize=(20,5))\n",
        "\n",
        "plt.subplot(1,2,1)\n",
        "df.groupby(['seating_capacity','rating']).size().plot(kind = 'bar')\n",
        "\n",
        "plt.subplot(1,2,2)\n",
        "sns.barplot(data=df,y='mean_price',x='seating_capacity',hue='rating')\n",
        "plt.xlabel(\"seating capacity\",size=15,c=\"r\")\n",
        "plt.ylabel(\"price\",size=15,c=\"r\")\n",
        "plt.xticks(size=10)\n",
        "plt.title(\"Effect of seating capacity on mean price\",size=15,c=\"red\")\n",
        "\n",
        "plt.show()"
      ],
      "metadata": {
        "colab": {
          "base_uri": "https://localhost:8080/",
          "height": 374
        },
        "id": "Oq6Qk5Si-V70",
        "outputId": "734dceb0-4413-4a49-d8e6-5b060bece7c8"
      },
      "execution_count": 22,
      "outputs": [
        {
          "output_type": "display_data",
          "data": {
            "text/plain": [
              "<Figure size 1440x360 with 2 Axes>"
            ],
            "image/png": "[encoded data removed]"
          },
          "metadata": {
            "needs_background": "light"
          }
        }
      ]
    },
    {
      "cell_type": "code",
      "source": [
        "#fuel_type rating analysis\n",
        "plt.figure(figsize=(20,5))\n",
        "\n",
        "plt.subplot(1,2,1)\n",
        "df.groupby(['fuel_type','rating']).size().plot(kind = 'bar')\n",
        "\n",
        "plt.subplot(1,2,2)\n",
        "sns.barplot(data=df,y='mean_price',x='fuel_type',hue='rating')\n",
        "plt.xlabel(\"fuel type\",size=15,c=\"r\")\n",
        "plt.ylabel(\"price\",size=15,c=\"r\")\n",
        "plt.xticks(size=10)\n",
        "plt.title(\"Effect of fuel type on mean price\",size=15,c=\"red\")\n",
        "\n",
        "plt.show()"
      ],
      "metadata": {
        "colab": {
          "base_uri": "https://localhost:8080/",
          "height": 396
        },
        "id": "yP82Uey9-fBm",
        "outputId": "ff04b0e0-3e56-412c-be34-8cfa7874403e"
      },
      "execution_count": 23,
      "outputs": [
        {
          "output_type": "display_data",
          "data": {
            "text/plain": [
              "<Figure size 1440x360 with 2 Axes>"
            ],
            "image/png": "[encoded data removed]"
          },
          "metadata": {
            "needs_background": "light"
          }
        }
      ]
    },
    {
      "cell_type": "code",
      "source": [
        "#engine displacement vs starting or ending price"
      ],
      "metadata": {
        "id": "r9VbD3F6acZt"
      },
      "execution_count": 24,
      "outputs": []
    },
    {
      "cell_type": "code",
      "source": [
        "plt.figure(figsize=(10,6))\n",
        "plt.scatter(df['engine_displacement'],df['starting_price'],c = 'blue',label = 'starting price')\n",
        "plt.scatter(df['engine_displacement'],df['ending_price'],c = 'red',label = 'ending price')\n",
        "plt.title('engine displacement vs price')\n",
        "plt.xlabel('engine displacement')\n",
        "plt.ylabel('prices')\n",
        "plt.legend()\n",
        "plt.show()\n"
      ],
      "metadata": {
        "id": "Ms83APAZFnzC",
        "colab": {
          "base_uri": "https://localhost:8080/",
          "height": 404
        },
        "outputId": "50828730-92f5-4727-c6e6-a1c655a8286b"
      },
      "execution_count": 25,
      "outputs": [
        {
          "output_type": "display_data",
          "data": {
            "text/plain": [
              "<Figure size 720x432 with 1 Axes>"
            ],
            "image/png": "[encoded data removed]"
          },
          "metadata": {
            "needs_background": "light"
          }
        }
      ]
    },
    {
      "cell_type": "code",
      "source": [
        "#engine displacement vs torque or power analysis"
      ],
      "metadata": {
        "id": "9O6zYPS8akBI"
      },
      "execution_count": 26,
      "outputs": []
    },
    {
      "cell_type": "code",
      "source": [
        "plt.figure(figsize=(10,6))\n",
        "plt.scatter(df['engine_displacement'],df['max_torque_rpm'],c = 'blue',label = 'max torque rpm')\n",
        "plt.scatter(df['engine_displacement'],df['max_power_rp'],c = 'red',label = 'max power rp')\n",
        "plt.title('engine displacement vs torque or power')\n",
        "plt.xlabel('engine displacement')\n",
        "plt.ylabel('torque or power')\n",
        "plt.legend()\n",
        "plt.show()\n"
      ],
      "metadata": {
        "colab": {
          "base_uri": "https://localhost:8080/",
          "height": 404
        },
        "id": "Yqhpl6oQRYft",
        "outputId": "720f9ffb-111b-404e-c7d0-1c7a0b822c6a"
      },
      "execution_count": 27,
      "outputs": [
        {
          "output_type": "display_data",
          "data": {
            "text/plain": [
              "<Figure size 720x432 with 1 Axes>"
            ],
            "image/png": "[encoded data removed]"
          },
          "metadata": {
            "needs_background": "light"
          }
        }
      ]
    },
    {
      "cell_type": "code",
      "source": [],
      "metadata": {
        "id": "mhVWKYu6T1vz"
      },
      "execution_count": 27,
      "outputs": []
    }
  ]
}